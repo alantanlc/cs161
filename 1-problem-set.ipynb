{
 "cells": [
  {
   "cell_type": "markdown",
   "metadata": {},
   "source": [
    "### Problem 1\n",
    "\n",
    "Suppose we are comparing implementations of insertion sort and merge sort on the same machine. For inputs of size n, insertion sort runs in 8n^2 steps, while merge sort runs in 64*(n log n) steps (recall that log is the log base 2 function). For which values of n does insertion sort beat merge sort? You may use a calculator or computer to help find your final answer."
   ]
  },
  {
   "cell_type": "code",
   "execution_count": 5,
   "metadata": {},
   "outputs": [
    {
     "name": "stdout",
     "output_type": "stream",
     "text": [
      "n=1, ins=8, mer=0.0, merge wins\n",
      "n=2, ins=32, mer=128.0, insertion wins\n",
      "n=3, ins=72, mer=304.312800138462, insertion wins\n",
      "n=4, ins=128, mer=512.0, insertion wins\n",
      "n=5, ins=200, mer=743.0169903639559, insertion wins\n",
      "n=6, ins=288, mer=992.6256002769239, insertion wins\n",
      "n=7, ins=392, mer=1257.6950050818066, insertion wins\n",
      "n=8, ins=512, mer=1536.0, insertion wins\n",
      "n=9, ins=648, mer=1825.876800830772, insertion wins\n",
      "n=10, ins=800, mer=2126.033980727912, insertion wins\n",
      "n=11, ins=968, mer=2435.4398595206576, insertion wins\n",
      "n=12, ins=1152, mer=2753.2512005538483, insertion wins\n",
      "n=13, ins=1352, mer=3078.7658454933885, insertion wins\n",
      "n=14, ins=1568, mer=3411.3900101636127, insertion wins\n",
      "n=15, ins=1800, mer=3750.614971784178, insertion wins\n",
      "n=16, ins=2048, mer=4096.0, insertion wins\n",
      "n=17, ins=2312, mer=4447.15957128037, insertion wins\n",
      "n=18, ins=2592, mer=4803.753601661543, insertion wins\n",
      "n=19, ins=2888, mer=5165.4798563474, insertion wins\n",
      "n=20, ins=3200, mer=5532.067961455824, insertion wins\n",
      "n=21, ins=3528, mer=5903.274616214654, insertion wins\n",
      "n=22, ins=3872, mer=6278.879719041314, insertion wins\n",
      "n=23, ins=4232, mer=6658.683199315923, insertion wins\n",
      "n=24, ins=4608, mer=7042.502401107697, insertion wins\n",
      "n=25, ins=5000, mer=7430.169903639559, insertion wins\n",
      "n=26, ins=5408, mer=7821.531690986778, insertion wins\n",
      "n=27, ins=5832, mer=8216.445603738475, insertion wins\n",
      "n=28, ins=6272, mer=8614.780020327225, insertion wins\n",
      "n=29, ins=6728, mer=9016.412726956774, insertion wins\n",
      "n=30, ins=7200, mer=9421.229943568356, insertion wins\n",
      "n=31, ins=7688, mer=9829.125479807562, insertion wins\n",
      "n=32, ins=8192, mer=10240.0, insertion wins\n",
      "n=33, ins=8712, mer=10653.760380085054, insertion wins\n",
      "n=34, ins=9248, mer=11070.31914256074, insertion wins\n",
      "n=35, ins=9800, mer=11489.593957956724, insertion wins\n",
      "n=36, ins=10368, mer=11911.507203323086, insertion wins\n",
      "n=37, ins=10952, mer=12335.985569809354, insertion wins\n",
      "n=38, ins=11552, mer=12762.9597126948, insertion wins\n",
      "n=39, ins=12168, mer=13192.363938280172, insertion wins\n",
      "n=40, ins=12800, mer=13624.135922911648, insertion wins\n",
      "n=41, ins=13448, mer=14058.216460117852, insertion wins\n",
      "n=42, ins=14112, mer=14494.549232429308, insertion wins\n",
      "n=43, ins=14792, mer=14933.080604940173, insertion wins\n",
      "n=44, ins=15488, mer=15373.759438082629, merge wins\n"
     ]
    }
   ],
   "source": [
    "import math\n",
    "\n",
    "insertion = lambda n: 8*n*n\n",
    "merge = lambda n: 64*(n*math.log(n, 2))\n",
    "\n",
    "n = 1\n",
    "ins = insertion(n)\n",
    "mer = merge(n)\n",
    "print(f'n={n}, ins={ins}, mer={mer}, merge wins')\n",
    "\n",
    "n = 2\n",
    "while True:\n",
    "    ins = insertion(n)\n",
    "    mer = merge(n)\n",
    "    if ins <= mer:\n",
    "        print(f'n={n}, ins={ins}, mer={mer}, insertion wins')\n",
    "        n += 1\n",
    "    else:\n",
    "        print(f'n={n}, ins={ins}, mer={mer}, merge wins')\n",
    "        break"
   ]
  },
  {
   "cell_type": "markdown",
   "metadata": {},
   "source": [
    "### Problem 2\n",
    "\n",
    "There are n people entering and exiting a room. For each i from 1 to n, person _i_ enters at time ai and exits at time bi (assume bi > ai for all i), and all the ai; bi are distinc. At the beginning of the day, the lights in the room are switched off, and the first person that enters the room switches them on. In order to conserve electricity, if person _i_ leaves the room at time bi, and there is no one else present in the room at time bi, then person _i_ will switch the lights off. The next person to enter will then switch them on again. Given the values (a1, b1), (a2, b2), ... (an, bn), we want to find the number of times the lights get switched on.\n",
    "\n",
    "Design the following algorithms, and prove the correctness and running time of each algorithm."
   ]
  },
  {
   "cell_type": "markdown",
   "metadata": {},
   "source": [
    "(a) A theta(n^2) algorithm that computes the number of times the lights get switched on."
   ]
  },
  {
   "cell_type": "code",
   "execution_count": 30,
   "metadata": {},
   "outputs": [
    {
     "name": "stdout",
     "output_type": "stream",
     "text": [
      "False\n",
      "0\n",
      "1\n"
     ]
    }
   ],
   "source": [
    "a = [0, 3]\n",
    "b = [3, 5]\n",
    "\n",
    "lights_on = False\n",
    "num_switches = 0\n",
    "num_people_in_room = 0\n",
    "\n",
    "total_time = max(max(a), max(b))\n",
    "total_people = len(a)\n",
    "\n",
    "for t in range(total_time + 1):         # for each time step, increments by 1\n",
    "    for n in range(total_people):       # for each person\n",
    "        if a[n] == t:                   # if person enters room at time t\n",
    "            if num_people_in_room == 0: # if no one is present in rom\n",
    "                lights_on = True        # turn light on\n",
    "                num_switches += 1       # increment num of times light gets switched on\n",
    "            num_people_in_room += 1     # increment num of people in room\n",
    "    for n in range(total_people):\n",
    "        if b[n] == t:                   # if person exits room at time t\n",
    "            if num_people_in_room == 1: # if no one else in room after this person exits\n",
    "                lights_on = False       # turn off light\n",
    "            num_people_in_room -= 1     # decrement num of people in room\n",
    "\n",
    "print(lights_on)\n",
    "print(num_people_in_room)\n",
    "print(num_switches)"
   ]
  },
  {
   "cell_type": "markdown",
   "metadata": {},
   "source": [
    "(b) An O(n log n) algorithm that computes the number of times the lights get switched on. (Hint: start by sorting the entry and exit times.)"
   ]
  },
  {
   "cell_type": "code",
   "execution_count": 44,
   "metadata": {},
   "outputs": [
    {
     "name": "stdout",
     "output_type": "stream",
     "text": [
      "False\n",
      "0\n",
      "1\n"
     ]
    }
   ],
   "source": [
    "a = [3, 0]\n",
    "b = [5, 3]\n",
    "\n",
    "a = [(i, 'enter') for i in a]\n",
    "b = [(i, 'exit') for i in b]\n",
    "c = sorted(a + b) # O(n log n)\n",
    "\n",
    "lights_on = False\n",
    "num_switches = 0\n",
    "num_people_in_room = 0\n",
    "\n",
    "for t, action in c: # O(n)\n",
    "    if action == 'enter':\n",
    "        if num_people_in_room == 0:\n",
    "            lights_on = True\n",
    "            num_switches += 1\n",
    "        num_people_in_room += 1\n",
    "    else:\n",
    "        if num_people_in_room == 1:\n",
    "            lights_on = False\n",
    "        num_people_in_room -= 1\n",
    "        \n",
    "print(lights_on)\n",
    "print(num_people_in_room)\n",
    "print(num_switches)"
   ]
  }
 ],
 "metadata": {
  "kernelspec": {
   "display_name": "Python 3",
   "language": "python",
   "name": "python3"
  },
  "language_info": {
   "codemirror_mode": {
    "name": "ipython",
    "version": 3
   },
   "file_extension": ".py",
   "mimetype": "text/x-python",
   "name": "python",
   "nbconvert_exporter": "python",
   "pygments_lexer": "ipython3",
   "version": "3.7.4"
  }
 },
 "nbformat": 4,
 "nbformat_minor": 2
}
