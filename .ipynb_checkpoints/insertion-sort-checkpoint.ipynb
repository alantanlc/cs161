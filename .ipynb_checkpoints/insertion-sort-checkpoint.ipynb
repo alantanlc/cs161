{
 "cells": [
  {
   "cell_type": "markdown",
   "metadata": {},
   "source": [
    "### Insertion Sort\n",
    "\n",
    "Insertion sort is an algorithm for sorting arrays. The following figure shows how insertion sort works. The whole time, you have a \"sorted\" part of the array (on the left) and an \"unsorted\" part of the array (on the right). In the beginning, the entire array is unsorted, and the sorted part of the array is just the first element in the array. On each iteration of the outer loop, you extend the sorted part by one element, and move that element to the correct position in the sorted part of the array. Eventually all of the numbers end up in the sorted part and the array is sorted."
   ]
  },
  {
   "cell_type": "markdown",
   "metadata": {},
   "source": [
    "#### Assumptions\n",
    "\n",
    "In order to meaningfully analyze algorithms, we first need to formalize exactly how they work. When doing this we abstract away implementation details that are specific to a particular computer architecture, or a particular programming language. Instead, we make mathematical assumptions about the behavious of computers and base all our analyses on these assumptions. As a result, analyzing algorithms become more about proving theorems than actual programming.\n",
    "\n",
    "For example, we assum that it takes constant time to access any element in an array. This is not necessarily true in practice, since computers have caches, and the time required to access an element on a real computer depends on which previous elements have been accessed. However, the constant time assumption is mathematically convenient for our purposes.\n",
    "\n",
    "In this class, we will use the \"RAM model\" of computation unless otherwise specified. This model assumes that the following instructions take constant time: (this list of instructions is from page 23 of CLRS)\n",
    "\n",
    "- Arithmetic: add, subtract, multiply, divide, remainder, floor, ceiling\n",
    "- Data movement: load, store, copy\n",
    "- Flow control: conditional and unconditional branch, subroutine call, return"
   ]
  },
  {
   "cell_type": "markdown",
   "metadata": {},
   "source": [
    "#### Formal description of insertion sort\n",
    "\n",
    "- Input: A sequence of _n_ numbers (a1, a2, ... , an)\n",
    "- Output: A permutation of those numbers (a'1, a'2, ... a'n) where a'1 <= a'2 <= ... <= a'n"
   ]
  },
  {
   "cell_type": "code",
   "execution_count": 9,
   "metadata": {},
   "outputs": [
    {
     "name": "stdout",
     "output_type": "stream",
     "text": [
      "Before\t[5, 2, 4, 6, 1, 3]\n",
      "After\t[1, 2, 3, 4, 5, 6]\n"
     ]
    }
   ],
   "source": [
    "a = [5, 2, 4, 6, 1, 3]\n",
    "\n",
    "print(f'Before\\t{a}')\n",
    "\n",
    "for j in range(1, len(a)):\n",
    "    key = a[j]\n",
    "    # Insert a[j] into the sorted sequence a[1..j-1]\n",
    "    i = j - 1\n",
    "    while i >= 0 and a[i] > key:\n",
    "        a[i+1] = a[i]\n",
    "        i = i - 1\n",
    "    a[i+1] = key\n",
    "    \n",
    "print(f'After\\t{a}')"
   ]
  },
  {
   "cell_type": "markdown",
   "metadata": {},
   "source": [
    "### Proof of correctness\n",
    "\n",
    "In analyzing algorithms, it is important that they do what we say they do (i.e. given an input that meets the specifications, the algorithm produces the specified output). It's so important than often we find ourselves writing proofs that the algorithms are correct. Many of the standard proof techniques apply here, such as proof by contradiction and proof by induction.\n",
    "\n",
    "To prove insertion sort is corect, we will use \"loop invariants.\" The loop invariant we'll use is\n",
    "\n",
    "__Lemma:__ At the start of each iteration of the for loop, the subarray A[1..j-1] consists of the elements originally in A[1..j-1], but in sorted order.\n",
    "\n",
    "To use this, we need to prove three conditions:\n",
    "\n",
    "__Initialization:__ The loop invariant is satisfied at the beginning of the for loop.\n",
    "\n",
    "__Maintenance:__ If the loop invariant is true before the _i_-th iteration, then the loop invariant will be true before the _i_ + 1st iteration.\n",
    "\n",
    "__Termination:__ When the loop terminates, the invariant gives us a useful property that helps show that the algorithm is correct.\n",
    "\n",
    "Note that this is basically mathematical induction (the initialization is the base case, and the maintenance is the inductive step).\n",
    "\n",
    "In the case of insertion sort, we have:\n",
    "\n",
    "__Initialization:__ Before the first iteration (which is when _j_ = 2), the subarray [1..j-1] is just the first element of the array, A[1]. This subarray is sorted, and consists of the elements that were originally in A[1..1].\n",
    "\n",
    "__Maintenance:__ Suppose A[1..j-1] is sorted. Informally, the body of the loop works by moving A[j-1], A[j-2], A[j-3] and so on by one position to the right until it finds the proper position for A[j] (lines 4-7), at which point it inserts the value of A[j] (line 8). The subarray A[1..j] then consists of the elements originally in A[1..j], but in sorted order. Incrementing _j_ for the next iteration of the for loop then preserves the loop invariant.\n",
    "\n",
    "__Termination:__ The condition causing the for loop to terminate is that _j_ > _n_. Because each loop iteration increases _j_ by 1, we must have _j_ = _n_ + 1 at that time. By the initialization and maintenance steps, we have shown that the subarray A[1..n + 1 - 1] consists of the elements originally in A[1..n], but in sorted order."
   ]
  },
  {
   "cell_type": "markdown",
   "metadata": {},
   "source": [
    "### Runtime analysis\n",
    "\n",
    "#### Running time\n",
    "\n",
    "The running time of an algorithm on a particular input is the number of primitive operations or \"steps\" executed. We assume that a constant amount of time is required to execute each line of our pseudocode. One line may take a different amount of time than another line, but we shall assume that each execution of the _i_-th line takes time c_i, where c_i is a constant.\n",
    "\n",
    "Let t_j represent the number of times the while loop test is executed on the _j_-th iteration of the for loop. Then the total runtime is (see figure)."
   ]
  },
  {
   "cell_type": "code",
   "execution_count": 8,
   "metadata": {},
   "outputs": [
    {
     "name": "stdout",
     "output_type": "stream",
     "text": [
      "Before: [5, 2, 4, 6, 1, 3]\n",
      "After: [1, 2, 3, 4, 5, 6]\n"
     ]
    }
   ],
   "source": [
    "a = [5, 2, 4, 6, 1, 3]\n",
    "\n",
    "print(f'Before: {a}')\n",
    "                                          # cost * times\n",
    "for j in range(1, len(a)):                # c1 * n\n",
    "    key = a[j]                            # c2 * (n - 1)\n",
    "    # Insert a[j] into the...\n",
    "    # ...sorted sequence a[1..j-1]        # 0  (n - 1)\n",
    "    i = j - 1                             # c4 * (n - 1)\n",
    "    while i >= 0 and a[i] > key:          # c5 * sum[2_n](t_j)\n",
    "        a[i+1] = a[i]                     # c6 * sum[2_n](t_j - 1)\n",
    "        i = i - 1                         # c7 * sum[2_n](t_j - 1)\n",
    "    a[i+1] = key                          # c8 * (n - 1)\n",
    "      \n",
    "print(f'After: {a}')"
   ]
  },
  {
   "cell_type": "markdown",
   "metadata": {},
   "source": [
    "#### Best, worst, and average case analysis\n",
    "\n",
    "So if I asked you how long an algorithm takes to run, you'd probably say, \"it depends on the input you give it.\" In this class we mostly consider the \"worse-case running time\", which is the longest running time for any input of size _n_. (There is also \"best-case\" and \"average-case\".)\n",
    "\n",
    "For insertion sort, what are the worst and best case inputs? The __best case__ input is a __sorted array__, because you __never have to move elements__, and the __worst case__ input is a __backwards sorted array__, like [5,4,3,2,1].\n",
    "\n",
    "In the __best__ case, t_j = 1 for all _j_, and the running time T(n) is a __linear__ function of _n_. In the __worst__ case, we must compare each element A[j] with each element in the entire sorted subarray A[1..j-1], so t_j = _j_ for all _j_. Substituting in sum[j=2,n](j) = (n(n+1))/2 - 1 and sum[j=2,n](j-1) = (n(n-1))/2 - 1, we get that T(n) is __quadratic__ _n_.\n",
    "\n",
    "__Average-case__ analysis __presupposes a probability distribution__ on inputs, but if we __assume all permutations of a given input array are equally likely__, then the __average__ case has __quadratic__ runtime. (We won't prove this here.)"
   ]
  }
 ],
 "metadata": {
  "kernelspec": {
   "display_name": "Python 3",
   "language": "python",
   "name": "python3"
  },
  "language_info": {
   "codemirror_mode": {
    "name": "ipython",
    "version": 3
   },
   "file_extension": ".py",
   "mimetype": "text/x-python",
   "name": "python",
   "nbconvert_exporter": "python",
   "pygments_lexer": "ipython3",
   "version": "3.7.4"
  }
 },
 "nbformat": 4,
 "nbformat_minor": 2
}
