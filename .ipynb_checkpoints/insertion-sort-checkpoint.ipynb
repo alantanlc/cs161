{
 "cells": [
  {
   "cell_type": "markdown",
   "metadata": {},
   "source": [
    "### Insertion Sort\n",
    "\n",
    "Insertion sort is an algorithm for sorting arrays. The following figure shows how insertion sort works. The whole time, you have a \"sorted\" part of the array (on the left) and an \"unsorted\" part of the array (on the right). In the beginning, the entire array is unsorted, and the sorted part of the array is just the first element in the array. On each iteration of the outer loop, you extend the sorted part by one element, and move that element to the correct position in the sorted part of the array. Eventually all of the numbers end up in the sorted part and the array is sorted."
   ]
  },
  {
   "cell_type": "markdown",
   "metadata": {},
   "source": [
    "#### Assumptions\n",
    "\n",
    "In order to meaningfully analyze algorithms, we first need to formalize exactly how they work. When doing this we abstract away implementation details that are specific to a particular computer architecture, or a particular programming language. Instead, we make mathematical assumptions about the behavious of computers and base all our analyses on these assumptions. As a result, analyzing algorithms become more about proving theorems than actual programming.\n",
    "\n",
    "For example, we assum that it takes constant time to access any element in an array. This is not necessarily true in practice, since computers have caches, and the time required to access an element on a real computer depends on which previous elements have been accessed. However, the constant time assumption is mathematically convenient for our purposes.\n",
    "\n",
    "In this class, we will use the \"RAM model\" of computation unless otherwise specified. This model assumes that the following instructions take constant time: (this list of instructions is from page 23 of CLRS)\n",
    "\n",
    "- Arithmetic: add, subtract, multiply, divide, remainder, floor, ceiling\n",
    "- Data movement: load, store, copy\n",
    "- Flow control: conditional and unconditional branch, subroutine call, return"
   ]
  },
  {
   "cell_type": "markdown",
   "metadata": {},
   "source": [
    "#### Formal description of insertion sort\n",
    "\n",
    "- Input: A sequence of _n_ numbers (a1, a2, ... , an)\n",
    "- Output: A permutation of those numbers (a'1, a'2, ... a'n) where a'1 <= a'2 <= ... <= a'n"
   ]
  },
  {
   "cell_type": "code",
   "execution_count": 9,
   "metadata": {},
   "outputs": [
    {
     "name": "stdout",
     "output_type": "stream",
     "text": [
      "Before\t[5, 2, 4, 6, 1, 3]\n",
      "After\t[1, 2, 3, 4, 5, 6]\n"
     ]
    }
   ],
   "source": [
    "a = [5, 2, 4, 6, 1, 3]\n",
    "\n",
    "print(f'Before\\t{a}')\n",
    "\n",
    "for j in range(1, len(a)):\n",
    "    key = a[j]\n",
    "    i = j - 1\n",
    "    while i >= 0 and a[i] > key:\n",
    "        a[i+1] = a[i]\n",
    "        i = i - 1\n",
    "    a[i+1] = key\n",
    "    \n",
    "print(f'After\\t{a}')"
   ]
  }
 ],
 "metadata": {
  "kernelspec": {
   "display_name": "Python 3",
   "language": "python",
   "name": "python3"
  },
  "language_info": {
   "codemirror_mode": {
    "name": "ipython",
    "version": 3
   },
   "file_extension": ".py",
   "mimetype": "text/x-python",
   "name": "python",
   "nbconvert_exporter": "python",
   "pygments_lexer": "ipython3",
   "version": "3.7.4"
  }
 },
 "nbformat": 4,
 "nbformat_minor": 2
}
