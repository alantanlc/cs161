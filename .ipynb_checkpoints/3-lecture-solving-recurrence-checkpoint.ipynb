{
 "cells": [
  {
   "cell_type": "markdown",
   "metadata": {},
   "source": [
    "# CS161 Lecture 3\n",
    "\n",
    "Source: [CS161 Lecture 3](http://web.stanford.edu/class/archive/cs/cs161/cs161.1168/lecture3.pdf)"
   ]
  },
  {
   "cell_type": "markdown",
   "metadata": {},
   "source": [
    "## 1 Solving Recurrences\n",
    "\n",
    "Last class we introduced recurrence relations, such as T(n) = 2T(floor(n/2)) + n. Typically these reflect the runtime of recursive algorithms. For example, the recurrence above would correspond to an algorithm that made two recursive calls on subproblems of size floor(n/2), and then did n units of additional work.\n",
    "\n",
    "Today we will be learning about how to solve these recurrences to get bounds on the runtime (like T(n) = O(n log n))."
   ]
  },
  {
   "cell_type": "markdown",
   "metadata": {},
   "source": [
    "### 1.1 Substitution method\n",
    "\n",
    "A lot of things in this class reduce to induction. In the substitution method for solving recurrences we\n",
    "\n",
    "1. Guess the form of the solution.\n",
    "2. Use mathematical induction to find the constants and show that the solution works."
   ]
  },
  {
   "cell_type": "markdown",
   "metadata": {},
   "source": [
    "#### 1.1.1 Example\n",
    "\n",
    "__Recurrence:__ T(1) = 1 and T(n) = 2T(floor(n/2)) + n for n > 1.\n",
    "\n",
    "We guess that the solution is T(n) = O(n log n). So we must prove that T(n) <= cn log n for some constant c. (We will get to n0 later, but for now let's try to prove the statement for all n >= 1.)\n",
    "\n",
    "As our inductive hypothesis, we assume T(n) <= cn log n for all positive numbers less than n. Therefore, T(floor(n/2)) <= c floor(n/2) log (floor(n/2)), and\n",
    "\n",
    "    T(n) <= 2(c floor(n/2) log (floor(n/2)) + n\n",
    "         <= cn log (n/2) + n\n",
    "         = cn log n - cn log 2 + n\n",
    "         = cn log n - cn + n\n",
    "         <= cn log n (for c >= 1)\n",
    "         \n",
    "Now we need to show the base case. This is tricky, because if T(n) <= cn log n, then T(1) <= 0, which is not a thing. So we revise our induction so that we only prove the statement for n >= 2, and the base cases of the induction proof (which is not the same as the base case of the recurrence!) are n = 2 and n = 3. (We are allowed to do this because asymptotic notation only requires us to prove our statement for n >= n0, and we can set n0 = 2).\n",
    "\n",
    "We choose n = 2 and n = 3 for our base cases because when we expand the recurrence formula, we will always go through either n = 2 or n = 3 before we hit the case where n = 1.\n",
    "\n",
    "So proving the inductive step as above, plus proving the bound works for n = 2 and n = 3, suffices for our proof that the bound works for all n > 1.\n",
    "\n",
    "Plugging the numbers into the recurrence formula, we get T(2) = 2T(1) + 2 = 4 and T(3) = 2T(1) + 3 = 5. So now we just need to choose a _c_ that satisfies those constraints on T(2) and T(3). We can choose c = 2, because 4 <= 2 * 2 log 2 and 5 <= 2 * 3 log 3.\n",
    "\n",
    "Therefore, we have shown that T(n) <= 2n log n for all n >= 2, so T(n) = O(n log n)."
   ]
  },
  {
   "cell_type": "markdown",
   "metadata": {},
   "source": [
    "#### 1.1.2 Warnings\n",
    "\n",
    "__Warning:__ Using the substitution method, it is easy to prove a weaker bound than the one you're supposed to prove. For instance, if the runtime is O(n), you might still be able to substitue cn^2 into the recurrence and prove that the bound is O(n^2). Which is technically true, but don't let it mislead you into thinking it's the best bound on the runtime. People often get burned by this on exams!\n",
    "\n",
    "__Warning:__ You must prove the exact form of the inductive hypothesis. For example, in the recurrence T(n) = 2T(floor(n/2)) + n, we could falsly \"prove\" T(n) = O(n) by guessing T(n) <= cn and then arguing T(n) <= 2(c floor(n/2)) + n <= cn + n = O(n). Here we needed to prove T(n) <= cn, not T(n) <= (c+1)n. Accumulated over many recursive calls, those \"plus ones\" add up."
   ]
  },
  {
   "cell_type": "code",
   "execution_count": null,
   "metadata": {},
   "outputs": [],
   "source": []
  }
 ],
 "metadata": {
  "kernelspec": {
   "display_name": "Python 3",
   "language": "python",
   "name": "python3"
  },
  "language_info": {
   "codemirror_mode": {
    "name": "ipython",
    "version": 3
   },
   "file_extension": ".py",
   "mimetype": "text/x-python",
   "name": "python",
   "nbconvert_exporter": "python",
   "pygments_lexer": "ipython3",
   "version": "3.7.4"
  }
 },
 "nbformat": 4,
 "nbformat_minor": 4
}
